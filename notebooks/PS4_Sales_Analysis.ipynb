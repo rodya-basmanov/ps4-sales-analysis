{
 "cells": [
  {
   "cell_type": "markdown",
   "id": "d51550bb",
   "metadata": {},
   "source": [
    "# PlayStation 4 Games Sales Analysis\n",
    "\n",
    "This notebook contains a comprehensive analysis of PlayStation 4 game sales across different regions and years."
   ]
  },
  {
   "cell_type": "code",
   "execution_count": null,
   "id": "f17504bd",
   "metadata": {},
   "outputs": [],
   "source": [
    "# Import necessary libraries\n",
    "import pandas as pd\n",
    "import numpy as np\n",
    "import matplotlib.pyplot as plt\n",
    "import seaborn as sns\n",
    "import os\n",
    "\n",
    "# Set plot style\n",
    "plt.style.use('ggplot')\n",
    "sns.set(style=\"whitegrid\")\n",
    "%matplotlib inline"
   ]
  },
  {
   "cell_type": "markdown",
   "id": "c90d2553",
   "metadata": {},
   "source": [
    "## Data Loading\n",
    "\n",
    "First, we'll load the PS4 sales data from the raw data directory."
   ]
  },
  {
   "cell_type": "code",
   "execution_count": null,
   "id": "7952446d",
   "metadata": {},
   "outputs": [],
   "source": [
    "# Path to the data file\n",
    "data_path = '../data/raw/ps4_sales.csv'\n",
    "\n",
    "# Load the data\n",
    "df = pd.read_csv(data_path)\n",
    "\n",
    "# Display the first few rows\n",
    "df.head()"
   ]
  },
  {
   "cell_type": "markdown",
   "id": "cb228c3e",
   "metadata": {},
   "source": [
    "## Data Cleaning and Preparation\n",
    "\n",
    "Let's clean the data and prepare it for analysis."
   ]
  },
  {
   "cell_type": "code",
   "execution_count": null,
   "id": "de3e834e",
   "metadata": {},
   "outputs": [],
   "source": [
    "# Check for missing values\n",
    "print(\"Missing values per column:\")\n",
    "print(df.isnull().sum())\n",
    "\n",
    "# Basic data info\n",
    "print(\"\\nDataset shape:\", df.shape)\n",
    "print(\"\\nData types:\")\n",
    "print(df.dtypes)\n",
    "\n",
    "# Standardize column names\n",
    "df.rename(columns={\n",
    "    'North America': 'NA_Sales',\n",
    "    'europe': 'EU_Sales',\n",
    "    'japan': 'JP_Sales',\n",
    "    'Rest of World': 'Other_Sales',\n",
    "    'global': 'Global_Sales'\n",
    "}, inplace=True)\n",
    "\n",
    "# Display the updated dataframe\n",
    "print(\"\\nUpdated DataFrame:\")\n",
    "df.head()"
   ]
  },
  {
   "cell_type": "markdown",
   "id": "5ff415df",
   "metadata": {},
   "source": [
    "## Exploratory Data Analysis\n",
    "\n",
    "### Summary Statistics"
   ]
  },
  {
   "cell_type": "code",
   "execution_count": null,
   "id": "0b4646cd",
   "metadata": {},
   "outputs": [],
   "source": [
    "# Summary statistics for sales columns\n",
    "sales_cols = ['NA_Sales', 'EU_Sales', 'JP_Sales', 'Other_Sales', 'Global_Sales']\n",
    "df[sales_cols].describe()"
   ]
  },
  {
   "cell_type": "code",
   "execution_count": null,
   "id": "2d8d597b",
   "metadata": {},
   "outputs": [],
   "source": [
    "# Distribution of games by genre\n",
    "genre_counts = df['genre'].value_counts()\n",
    "print(\"Game distribution by genre:\")\n",
    "print(genre_counts)\n",
    "\n",
    "# Plot genre distribution\n",
    "plt.figure(figsize=(12, 6))\n",
    "sns.barplot(x=genre_counts.index, y=genre_counts.values)\n",
    "plt.title('Number of PS4 Games by Genre', fontsize=16)\n",
    "plt.xlabel('Genre', fontsize=14)\n",
    "plt.ylabel('Number of Games', fontsize=14)\n",
    "plt.xticks(rotation=45, ha='right')\n",
    "plt.tight_layout()\n",
    "plt.show()"
   ]
  },
  {
   "cell_type": "code",
   "execution_count": null,
   "id": "379a11ef",
   "metadata": {},
   "outputs": [],
   "source": [
    "# Distribution of games by year\n",
    "year_counts = df['year'].value_counts().sort_index()\n",
    "print(\"Game distribution by year:\")\n",
    "print(year_counts)\n",
    "\n",
    "# Plot year distribution\n",
    "plt.figure(figsize=(12, 6))\n",
    "sns.barplot(x=year_counts.index, y=year_counts.values)\n",
    "plt.title('Number of PS4 Games Released by Year', fontsize=16)\n",
    "plt.xlabel('Year', fontsize=14)\n",
    "plt.ylabel('Number of Games', fontsize=14)\n",
    "plt.tight_layout()\n",
    "plt.show()"
   ]
  },
  {
   "cell_type": "markdown",
   "id": "268e7b73",
   "metadata": {},
   "source": [
    "## Regional Sales Analysis\n",
    "\n",
    "Let's analyze sales across different regions."
   ]
  },
  {
   "cell_type": "code",
   "execution_count": null,
   "id": "cf56f60a",
   "metadata": {},
   "outputs": [],
   "source": [
    "# Calculate mean sales per region\n",
    "region_cols = ['NA_Sales', 'EU_Sales', 'JP_Sales', 'Other_Sales', 'Global_Sales']\n",
    "mean_sales = df[region_cols].mean().reset_index()\n",
    "mean_sales.columns = ['Region', 'Mean Sales']\n",
    "\n",
    "# Plot regional sales\n",
    "plt.figure(figsize=(12, 6))\n",
    "sns.barplot(x='Region', y='Mean Sales', data=mean_sales)\n",
    "plt.title('Average PS4 Game Sales by Region', fontsize=16)\n",
    "plt.xlabel('Region', fontsize=14)\n",
    "plt.ylabel('Average Sales (millions)', fontsize=14)\n",
    "plt.xticks(rotation=45)\n",
    "plt.tight_layout()\n",
    "\n",
    "# Create directory if it doesn't exist\n",
    "os.makedirs('../reports/figures', exist_ok=True)\n",
    "plt.savefig('../reports/figures/mean_sales_by_region.png', dpi=300)\n",
    "plt.show()"
   ]
  },
  {
   "cell_type": "code",
   "execution_count": null,
   "id": "975500b8",
   "metadata": {},
   "outputs": [],
   "source": [
    "# Top 10 games by global sales\n",
    "top_10_global = df.sort_values('Global_Sales', ascending=False).head(10)\n",
    "print(\"Top 10 PS4 Games by Global Sales:\")\n",
    "top_10_global[['game', 'year', 'genre', 'publisher', 'Global_Sales']]\n",
    "\n",
    "# Plot top 10 games\n",
    "plt.figure(figsize=(14, 7))\n",
    "sns.barplot(x='Global_Sales', y='game', data=top_10_global, hue='game', legend=False)\n",
    "plt.title('Top 10 PS4 Games by Global Sales', fontsize=16)\n",
    "plt.xlabel('Global Sales (millions)', fontsize=14)\n",
    "plt.ylabel('Game', fontsize=14)\n",
    "plt.tight_layout()\n",
    "plt.show()"
   ]
  },
  {
   "cell_type": "markdown",
   "id": "031eabcd",
   "metadata": {},
   "source": [
    "## Year-based Analysis\n",
    "\n",
    "Let's analyze how sales have changed over the years."
   ]
  },
  {
   "cell_type": "code",
   "execution_count": null,
   "id": "7235e5fc",
   "metadata": {},
   "outputs": [],
   "source": [
    "# Group data by year\n",
    "yearly_data = df.groupby('year')['Global_Sales'].agg(['mean', 'sum', 'count']).reset_index()\n",
    "yearly_data.columns = ['Year', 'Average Sales', 'Total Sales', 'Number of Games']\n",
    "\n",
    "# Display the data\n",
    "print(\"Yearly sales data:\")\n",
    "yearly_data\n",
    "\n",
    "# Create figure with two y-axes\n",
    "fig, ax1 = plt.subplots(figsize=(14, 7))\n",
    "ax2 = ax1.twinx()\n",
    "\n",
    "# Plot average sales on the first y-axis\n",
    "ax1.plot(yearly_data['Year'], yearly_data['Average Sales'], 'b-', marker='o', linewidth=2, label='Average Sales')\n",
    "ax1.set_xlabel('Year', fontsize=14)\n",
    "ax1.set_ylabel('Average Sales (millions)', color='b', fontsize=14)\n",
    "ax1.tick_params(axis='y', labelcolor='b')\n",
    "\n",
    "# Plot number of games on the second y-axis\n",
    "ax2.plot(yearly_data['Year'], yearly_data['Number of Games'], 'r-', marker='s', linewidth=2, label='Number of Games')\n",
    "ax2.set_ylabel('Number of Games', color='r', fontsize=14)\n",
    "ax2.tick_params(axis='y', labelcolor='r')\n",
    "\n",
    "# Add title and legend\n",
    "plt.title('PS4 Game Sales by Year', fontsize=16)\n",
    "lines1, labels1 = ax1.get_legend_handles_labels()\n",
    "lines2, labels2 = ax2.get_legend_handles_labels()\n",
    "ax1.legend(lines1 + lines2, labels1 + labels2, loc='upper left')\n",
    "\n",
    "plt.tight_layout()\n",
    "plt.savefig('../reports/figures/year_sales_analysis.png', dpi=300)\n",
    "plt.show()"
   ]
  },
  {
   "cell_type": "markdown",
   "id": "d9637850",
   "metadata": {},
   "source": [
    "## Genre Analysis\n",
    "\n",
    "Let's examine which genres are most popular in different regions."
   ]
  },
  {
   "cell_type": "code",
   "execution_count": null,
   "id": "832c68b1",
   "metadata": {},
   "outputs": [],
   "source": [
    "# Group data by genre and calculate mean sales for each region\n",
    "genre_region = df.groupby('genre')[region_cols].mean().reset_index()\n",
    "\n",
    "# Display data\n",
    "print(\"Average sales by genre and region:\")\n",
    "genre_region\n",
    "\n",
    "# Create a heatmap\n",
    "plt.figure(figsize=(12, 8))\n",
    "genre_heatmap = genre_region.set_index('genre')\n",
    "sns.heatmap(genre_heatmap, annot=True, cmap='YlGnBu', fmt='.2f', linewidths=.5)\n",
    "plt.title('Average Sales by Genre and Region', fontsize=16)\n",
    "plt.ylabel('Genre', fontsize=14)\n",
    "plt.xticks(rotation=45, ha='right')\n",
    "plt.tight_layout()\n",
    "plt.savefig('../reports/figures/genre_region_heatmap.png', dpi=300)\n",
    "plt.show()"
   ]
  },
  {
   "cell_type": "code",
   "execution_count": null,
   "id": "cb9637d3",
   "metadata": {},
   "outputs": [],
   "source": [
    "# Calculate top genre by sales for each region\n",
    "top_genres = {}\n",
    "for region in ['NA_Sales', 'EU_Sales', 'JP_Sales', 'Other_Sales']:\n",
    "    top_genre = df.groupby('genre')[region].mean().sort_values(ascending=False).index[0]\n",
    "    top_genres[region] = top_genre\n",
    "\n",
    "print(\"Top genre by sales in each region:\")\n",
    "for region, genre in top_genres.items():\n",
    "    print(f\"{region}: {genre}\")"
   ]
  },
  {
   "cell_type": "markdown",
   "id": "876b6ae5",
   "metadata": {},
   "source": [
    "## Publisher Analysis\n",
    "\n",
    "Let's analyze which publishers have the most successful games."
   ]
  },
  {
   "cell_type": "code",
   "execution_count": null,
   "id": "f52175c8",
   "metadata": {},
   "outputs": [],
   "source": [
    "# Calculate average global sales by publisher\n",
    "publisher_sales = df.groupby('publisher')['Global_Sales'].agg(['mean', 'sum', 'count']).reset_index()\n",
    "publisher_sales.columns = ['Publisher', 'Average Sales', 'Total Sales', 'Number of Games']\n",
    "\n",
    "# Filter to publishers with at least 5 games\n",
    "major_publishers = publisher_sales[publisher_sales['Number of Games'] >= 5].sort_values('Average Sales', ascending=False)\n",
    "\n",
    "# Display top publishers by average sales\n",
    "print(\"Top publishers by average sales (with at least 5 games):\")\n",
    "major_publishers.head(10)\n",
    "\n",
    "# Plot top publishers\n",
    "plt.figure(figsize=(14, 8))\n",
    "top_publishers = major_publishers.head(10)\n",
    "sns.barplot(x='Average Sales', y='Publisher', data=top_publishers, hue='Publisher', legend=False)\n",
    "plt.title('Top 10 Publishers by Average Sales', fontsize=16)\n",
    "plt.xlabel('Average Sales (millions)', fontsize=14)\n",
    "plt.ylabel('Publisher', fontsize=14)\n",
    "plt.tight_layout()\n",
    "plt.show()"
   ]
  },
  {
   "cell_type": "markdown",
   "id": "66550592",
   "metadata": {},
   "source": [
    "## Correlation Analysis\n",
    "\n",
    "Let's examine correlations between different sales regions."
   ]
  },
  {
   "cell_type": "code",
   "execution_count": null,
   "id": "b5df2f91",
   "metadata": {},
   "outputs": [],
   "source": [
    "# Calculate correlation matrix\n",
    "corr_matrix = df[region_cols].corr()\n",
    "\n",
    "# Create heatmap\n",
    "plt.figure(figsize=(10, 8))\n",
    "sns.heatmap(corr_matrix, annot=True, cmap='coolwarm', vmin=-1, vmax=1, linewidths=0.5)\n",
    "plt.title('Correlation Between Regional Sales', fontsize=16)\n",
    "plt.tight_layout()\n",
    "plt.show()"
   ]
  },
  {
   "cell_type": "markdown",
   "id": "8df1ce77",
   "metadata": {},
   "source": [
    "## Console Lifecycle Analysis\n",
    "\n",
    "Let's analyze the effect of console lifecycle on sales."
   ]
  },
  {
   "cell_type": "code",
   "execution_count": null,
   "id": "89863906",
   "metadata": {},
   "outputs": [],
   "source": [
    "# Add lifecycle phase based on year\n",
    "def assign_lifecycle(year):\n",
    "    if year <= 2015:\n",
    "        return 'Early'\n",
    "    elif year <= 2018:\n",
    "        return 'Middle'\n",
    "    else:\n",
    "        return 'Late'\n",
    "\n",
    "df['Lifecycle_Phase'] = df['year'].apply(assign_lifecycle)\n",
    "\n",
    "# Analyze sales by lifecycle phase\n",
    "lifecycle_data = df.groupby('Lifecycle_Phase')['Global_Sales'].agg(['mean', 'sum', 'count']).reset_index()\n",
    "lifecycle_data.columns = ['Lifecycle Phase', 'Average Sales', 'Total Sales', 'Number of Games']\n",
    "\n",
    "# Display the data\n",
    "print(\"Sales by console lifecycle phase:\")\n",
    "lifecycle_data\n",
    "\n",
    "# Plot average sales by lifecycle phase\n",
    "plt.figure(figsize=(10, 6))\n",
    "sns.barplot(x='Lifecycle Phase', y='Average Sales', data=lifecycle_data, hue='Lifecycle Phase', legend=False)\n",
    "plt.title('Average PS4 Game Sales by Console Lifecycle Phase', fontsize=16)\n",
    "plt.xlabel('Lifecycle Phase', fontsize=14)\n",
    "plt.ylabel('Average Sales (millions)', fontsize=14)\n",
    "plt.tight_layout()\n",
    "plt.show()"
   ]
  },
  {
   "cell_type": "markdown",
   "id": "94e4d6e0",
   "metadata": {},
   "source": [
    "## Conclusion\n",
    "\n",
    "This analysis has revealed several important insights about PS4 game sales:\n",
    "\n",
    "1. **Regional Differences**: There are significant differences in sales across regions, with North America and Europe typically having higher sales volumes than Japan and other regions.\n",
    "\n",
    "2. **Console Lifecycle**: Sales trends over the years show clear patterns related to the PS4 console lifecycle, with peak sales occurring in the middle years (2016-2018).\n",
    "\n",
    "3. **Genre Preferences**: Different regions show distinct preferences for game genres. Action and Sports games are generally popular in North America and Europe, while RPGs have stronger performance in Japan.\n",
    "\n",
    "4. **Publisher Impact**: Certain publishers like Rockstar Games and Activision consistently achieve higher sales figures, demonstrating the importance of strong developer/publisher reputation.\n",
    "\n",
    "These insights can guide publishers and developers in making strategic decisions about game development and marketing for different regions."
   ]
  }
 ],
 "metadata": {},
 "nbformat": 4,
 "nbformat_minor": 5
}
