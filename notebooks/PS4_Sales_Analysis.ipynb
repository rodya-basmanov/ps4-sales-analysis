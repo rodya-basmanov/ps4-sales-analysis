{
 "cells": [
  {
   "cell_type": "markdown",
   "id": "9936661c",
   "metadata": {},
   "source": [
    "# PlayStation 4 Games Sales Analysis\n",
    "\n",
    "This notebook contains a comprehensive analysis of PlayStation 4 game sales across different regions and years."
   ]
  },
  {
   "cell_type": "code",
   "execution_count": null,
   "id": "98c5ee67",
   "metadata": {},
   "outputs": [],
   "source": [
    "# Import necessary libraries\n",
    "import pandas as pd\n",
    "import numpy as np\n",
    "import matplotlib.pyplot as plt\n",
    "import seaborn as sns\n",
    "import os\n",
    "\n",
    "# Set plot style\n",
    "plt.style.use('ggplot')\n",
    "sns.set(style=\"whitegrid\")\n",
    "%matplotlib inline"
   ]
  },
  {
   "cell_type": "markdown",
   "id": "1b60ea18",
   "metadata": {},
   "source": [
    "## Data Loading\n",
    "\n",
    "First, we'll load the PS4 sales data from the raw data directory."
   ]
  },
  {
   "cell_type": "code",
   "execution_count": null,
   "id": "a3fe2859",
   "metadata": {},
   "outputs": [],
   "source": [
    "# Path to the data file\n",
    "data_path = '../data/raw/ps4_sales.csv'\n",
    "\n",
    "# Load the data\n",
    "df = pd.read_csv(data_path)\n",
    "\n",
    "# Display the first few rows\n",
    "df.head()"
   ]
  }
 ],
 "metadata": {},
 "nbformat": 4,
 "nbformat_minor": 5
}
